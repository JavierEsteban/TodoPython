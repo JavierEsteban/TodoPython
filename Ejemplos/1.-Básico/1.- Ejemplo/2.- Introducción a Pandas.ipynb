{
 "cells": [
  {
   "cell_type": "markdown",
   "metadata": {},
   "source": [
    "                            ANALISIS DE DATOS \n",
    "Pandas : Herramienta de manejo de datos, Permite manejar grande cantidad de datos. Insertar e Exportar Datos.\n",
    "\n",
    "Principales Librerías que se utilizarán para DataScience:\n",
    "\n",
    "\n",
    "Analisis de datos:\n",
    "\n",
    "        * Pandas\n",
    "        * Scipy\n",
    "        * Numpy\n",
    "        * Statsmodels\n",
    "        * Blaze ( Numpy + Pandas )\n",
    "        * SymPy\n",
    "\n",
    "Visualización de los datos:\n",
    "\n",
    "        * Seaborn\n",
    "        * Matplotlib\n",
    "        * Plotly\n",
    "        * Boked\n",
    "        * Bokeh ( Generar Gráficos dinamicos en 3D)\n",
    "Machine Learning\n",
    "        \n",
    "        * Scikit-Learn\n",
    "        * TensorFlow\n",
    "        * Keras\n",
    "        \n",
    "Web Scrapping\n",
    "        \n",
    "        * BeautifulSoup\n",
    "        * Scrapy\n",
    "        \n"
   ]
  },
  {
   "cell_type": "code",
   "execution_count": null,
   "metadata": {},
   "outputs": [],
   "source": []
  }
 ],
 "metadata": {
  "kernelspec": {
   "display_name": "Python 3",
   "language": "python",
   "name": "python3"
  },
  "language_info": {
   "codemirror_mode": {
    "name": "ipython",
    "version": 3
   },
   "file_extension": ".py",
   "mimetype": "text/x-python",
   "name": "python",
   "nbconvert_exporter": "python",
   "pygments_lexer": "ipython3",
   "version": "3.7.0"
  }
 },
 "nbformat": 4,
 "nbformat_minor": 2
}
