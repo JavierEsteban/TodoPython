{
 "cells": [
  {
   "cell_type": "markdown",
   "metadata": {},
   "source": [
    "# Carga de Datos\n",
    "\n",
    "Importación de Librería Pandas"
   ]
  },
  {
   "cell_type": "code",
   "execution_count": 15,
   "metadata": {},
   "outputs": [],
   "source": [
    "import pandas as pd"
   ]
  },
  {
   "cell_type": "markdown",
   "metadata": {},
   "source": [
    "Versión de Pandas"
   ]
  },
  {
   "cell_type": "code",
   "execution_count": 7,
   "metadata": {
    "collapsed": true
   },
   "outputs": [
    {
     "data": {
      "text/plain": [
       "'0.25.2'"
      ]
     },
     "execution_count": 7,
     "metadata": {},
     "output_type": "execute_result"
    }
   ],
   "source": [
    "pd.__version__"
   ]
  },
  {
   "cell_type": "markdown",
   "metadata": {},
   "source": [
    "Carga de Data ( Separación, Fila, encondung)"
   ]
  },
  {
   "cell_type": "code",
   "execution_count": 13,
   "metadata": {
    "collapsed": true
   },
   "outputs": [
    {
     "data": {
      "text/html": [
       "<div>\n",
       "<style scoped>\n",
       "    .dataframe tbody tr th:only-of-type {\n",
       "        vertical-align: middle;\n",
       "    }\n",
       "\n",
       "    .dataframe tbody tr th {\n",
       "        vertical-align: top;\n",
       "    }\n",
       "\n",
       "    .dataframe thead th {\n",
       "        text-align: right;\n",
       "    }\n",
       "</style>\n",
       "<table border=\"1\" class=\"dataframe\">\n",
       "  <thead>\n",
       "    <tr style=\"text-align: right;\">\n",
       "      <th></th>\n",
       "      <th>Fecha</th>\n",
       "      <th>Vendedor</th>\n",
       "      <th>Región</th>\n",
       "      <th>Artículo</th>\n",
       "      <th>Categoría</th>\n",
       "      <th>Unidades</th>\n",
       "      <th>Ganancia</th>\n",
       "    </tr>\n",
       "  </thead>\n",
       "  <tbody>\n",
       "    <tr>\n",
       "      <th>0</th>\n",
       "      <td>01/01/2016</td>\n",
       "      <td>Steve Ashton</td>\n",
       "      <td>Norte</td>\n",
       "      <td>Medias Femeninas</td>\n",
       "      <td>Vestimenta</td>\n",
       "      <td>6</td>\n",
       "      <td>$ 18,00</td>\n",
       "    </tr>\n",
       "    <tr>\n",
       "      <th>1</th>\n",
       "      <td>01/01/2016</td>\n",
       "      <td>Trevor Snodgrass</td>\n",
       "      <td>Oeste</td>\n",
       "      <td>Chocolate</td>\n",
       "      <td>Comestibles</td>\n",
       "      <td>8</td>\n",
       "      <td>$ 3,84</td>\n",
       "    </tr>\n",
       "    <tr>\n",
       "      <th>2</th>\n",
       "      <td>01/01/2016</td>\n",
       "      <td>Sarah Bond</td>\n",
       "      <td>Sur</td>\n",
       "      <td>Gorras</td>\n",
       "      <td>Vestimenta</td>\n",
       "      <td>3</td>\n",
       "      <td>$ 6,30</td>\n",
       "    </tr>\n",
       "    <tr>\n",
       "      <th>3</th>\n",
       "      <td>01/01/2016</td>\n",
       "      <td>Desmond Delaney</td>\n",
       "      <td>Sur</td>\n",
       "      <td>Sánguche de Queso</td>\n",
       "      <td>Comestibles</td>\n",
       "      <td>9</td>\n",
       "      <td>$ 14,40</td>\n",
       "    </tr>\n",
       "    <tr>\n",
       "      <th>4</th>\n",
       "      <td>01/01/2016</td>\n",
       "      <td>Desmond Delaney</td>\n",
       "      <td>Este</td>\n",
       "      <td>Chocolate</td>\n",
       "      <td>Comestibles</td>\n",
       "      <td>14</td>\n",
       "      <td>$ 6,72</td>\n",
       "    </tr>\n",
       "    <tr>\n",
       "      <th>...</th>\n",
       "      <td>...</td>\n",
       "      <td>...</td>\n",
       "      <td>...</td>\n",
       "      <td>...</td>\n",
       "      <td>...</td>\n",
       "      <td>...</td>\n",
       "      <td>...</td>\n",
       "    </tr>\n",
       "    <tr>\n",
       "      <th>455</th>\n",
       "      <td>31/01/2016</td>\n",
       "      <td>Sarah Bond</td>\n",
       "      <td>Sur</td>\n",
       "      <td>Bufanda</td>\n",
       "      <td>Vestimenta</td>\n",
       "      <td>6</td>\n",
       "      <td>$ 16,50</td>\n",
       "    </tr>\n",
       "    <tr>\n",
       "      <th>456</th>\n",
       "      <td>31/01/2016</td>\n",
       "      <td>Dustin Gee</td>\n",
       "      <td>Este</td>\n",
       "      <td>Sandalias</td>\n",
       "      <td>Vestimenta</td>\n",
       "      <td>11</td>\n",
       "      <td>$ 115,50</td>\n",
       "    </tr>\n",
       "    <tr>\n",
       "      <th>457</th>\n",
       "      <td>31/01/2016</td>\n",
       "      <td>Dustin Gee</td>\n",
       "      <td>Este</td>\n",
       "      <td>Sánguche de Queso</td>\n",
       "      <td>Comestibles</td>\n",
       "      <td>4</td>\n",
       "      <td>$ 6,40</td>\n",
       "    </tr>\n",
       "    <tr>\n",
       "      <th>458</th>\n",
       "      <td>31/01/2016</td>\n",
       "      <td>Dustin Gee</td>\n",
       "      <td>Norte</td>\n",
       "      <td>Escobillón</td>\n",
       "      <td>Hogar</td>\n",
       "      <td>8</td>\n",
       "      <td>$ 6,80</td>\n",
       "    </tr>\n",
       "    <tr>\n",
       "      <th>459</th>\n",
       "      <td>31/01/2016</td>\n",
       "      <td>Trevor Snodgrass</td>\n",
       "      <td>Sur</td>\n",
       "      <td>Pepinillo</td>\n",
       "      <td>Comestibles</td>\n",
       "      <td>7</td>\n",
       "      <td>$ 2,10</td>\n",
       "    </tr>\n",
       "  </tbody>\n",
       "</table>\n",
       "<p>460 rows × 7 columns</p>\n",
       "</div>"
      ],
      "text/plain": [
       "          Fecha          Vendedor Región           Artículo    Categoría  \\\n",
       "0    01/01/2016      Steve Ashton  Norte   Medias Femeninas   Vestimenta   \n",
       "1    01/01/2016  Trevor Snodgrass  Oeste          Chocolate  Comestibles   \n",
       "2    01/01/2016        Sarah Bond    Sur             Gorras   Vestimenta   \n",
       "3    01/01/2016   Desmond Delaney    Sur  Sánguche de Queso  Comestibles   \n",
       "4    01/01/2016   Desmond Delaney   Este          Chocolate  Comestibles   \n",
       "..          ...               ...    ...                ...          ...   \n",
       "455  31/01/2016        Sarah Bond    Sur            Bufanda   Vestimenta   \n",
       "456  31/01/2016        Dustin Gee   Este          Sandalias   Vestimenta   \n",
       "457  31/01/2016        Dustin Gee   Este  Sánguche de Queso  Comestibles   \n",
       "458  31/01/2016        Dustin Gee  Norte         Escobillón        Hogar   \n",
       "459  31/01/2016  Trevor Snodgrass    Sur          Pepinillo  Comestibles   \n",
       "\n",
       "     Unidades    Ganancia  \n",
       "0           6    $ 18,00   \n",
       "1           8     $ 3,84   \n",
       "2           3     $ 6,30   \n",
       "3           9    $ 14,40   \n",
       "4          14     $ 6,72   \n",
       "..        ...         ...  \n",
       "455         6    $ 16,50   \n",
       "456        11   $ 115,50   \n",
       "457         4     $ 6,40   \n",
       "458         8     $ 6,80   \n",
       "459         7     $ 2,10   \n",
       "\n",
       "[460 rows x 7 columns]"
      ]
     },
     "execution_count": 13,
     "metadata": {},
     "output_type": "execute_result"
    }
   ],
   "source": [
    "DF = pd.read_csv('D:\\Cursos\\Python\\AnalisisDeDatos-Py\\ArchivosDeDatos\\VentasPorVendedor.csv',skiprows=5 ,sep = ';', encoding = 'latin-1')\n",
    "DF"
   ]
  },
  {
   "cell_type": "code",
   "execution_count": 19,
   "metadata": {
    "collapsed": true
   },
   "outputs": [
    {
     "name": "stdout",
     "output_type": "stream",
     "text": [
      "<class 'pandas.core.frame.DataFrame'>\n",
      "RangeIndex: 460 entries, 0 to 459\n",
      "Data columns (total 7 columns):\n",
      "Fecha        460 non-null object\n",
      "Vendedor     460 non-null object\n",
      "Región       460 non-null object\n",
      "Artículo     460 non-null object\n",
      "Categoría    460 non-null object\n",
      "Unidades     460 non-null int64\n",
      "Ganancia     460 non-null object\n",
      "dtypes: int64(1), object(6)\n",
      "memory usage: 14.4+ KB\n"
     ]
    }
   ],
   "source": [
    "DF.info()"
   ]
  },
  {
   "cell_type": "markdown",
   "metadata": {},
   "source": [
    "Estructura de Datos\n",
    "\n",
    "* DataFrame\n",
    "* Series"
   ]
  },
  {
   "cell_type": "markdown",
   "metadata": {},
   "source": [
    "#DATAFRAME : ES DIMENSINAL, TIENE VARIOS CAMPOS."
   ]
  },
  {
   "cell_type": "code",
   "execution_count": 23,
   "metadata": {},
   "outputs": [
    {
     "data": {
      "text/html": [
       "<div>\n",
       "<style scoped>\n",
       "    .dataframe tbody tr th:only-of-type {\n",
       "        vertical-align: middle;\n",
       "    }\n",
       "\n",
       "    .dataframe tbody tr th {\n",
       "        vertical-align: top;\n",
       "    }\n",
       "\n",
       "    .dataframe thead th {\n",
       "        text-align: right;\n",
       "    }\n",
       "</style>\n",
       "<table border=\"1\" class=\"dataframe\">\n",
       "  <thead>\n",
       "    <tr style=\"text-align: right;\">\n",
       "      <th></th>\n",
       "      <th>Fecha</th>\n",
       "      <th>Vendedor</th>\n",
       "      <th>Región</th>\n",
       "      <th>Artículo</th>\n",
       "      <th>Categoría</th>\n",
       "      <th>Unidades</th>\n",
       "      <th>Ganancia</th>\n",
       "    </tr>\n",
       "  </thead>\n",
       "  <tbody>\n",
       "    <tr>\n",
       "      <th>0</th>\n",
       "      <td>01/01/2016</td>\n",
       "      <td>Steve Ashton</td>\n",
       "      <td>Norte</td>\n",
       "      <td>Medias Femeninas</td>\n",
       "      <td>Vestimenta</td>\n",
       "      <td>6</td>\n",
       "      <td>$ 18,00</td>\n",
       "    </tr>\n",
       "    <tr>\n",
       "      <th>1</th>\n",
       "      <td>01/01/2016</td>\n",
       "      <td>Trevor Snodgrass</td>\n",
       "      <td>Oeste</td>\n",
       "      <td>Chocolate</td>\n",
       "      <td>Comestibles</td>\n",
       "      <td>8</td>\n",
       "      <td>$ 3,84</td>\n",
       "    </tr>\n",
       "    <tr>\n",
       "      <th>2</th>\n",
       "      <td>01/01/2016</td>\n",
       "      <td>Sarah Bond</td>\n",
       "      <td>Sur</td>\n",
       "      <td>Gorras</td>\n",
       "      <td>Vestimenta</td>\n",
       "      <td>3</td>\n",
       "      <td>$ 6,30</td>\n",
       "    </tr>\n",
       "    <tr>\n",
       "      <th>3</th>\n",
       "      <td>01/01/2016</td>\n",
       "      <td>Desmond Delaney</td>\n",
       "      <td>Sur</td>\n",
       "      <td>Sánguche de Queso</td>\n",
       "      <td>Comestibles</td>\n",
       "      <td>9</td>\n",
       "      <td>$ 14,40</td>\n",
       "    </tr>\n",
       "    <tr>\n",
       "      <th>4</th>\n",
       "      <td>01/01/2016</td>\n",
       "      <td>Desmond Delaney</td>\n",
       "      <td>Este</td>\n",
       "      <td>Chocolate</td>\n",
       "      <td>Comestibles</td>\n",
       "      <td>14</td>\n",
       "      <td>$ 6,72</td>\n",
       "    </tr>\n",
       "    <tr>\n",
       "      <th>...</th>\n",
       "      <td>...</td>\n",
       "      <td>...</td>\n",
       "      <td>...</td>\n",
       "      <td>...</td>\n",
       "      <td>...</td>\n",
       "      <td>...</td>\n",
       "      <td>...</td>\n",
       "    </tr>\n",
       "    <tr>\n",
       "      <th>455</th>\n",
       "      <td>31/01/2016</td>\n",
       "      <td>Sarah Bond</td>\n",
       "      <td>Sur</td>\n",
       "      <td>Bufanda</td>\n",
       "      <td>Vestimenta</td>\n",
       "      <td>6</td>\n",
       "      <td>$ 16,50</td>\n",
       "    </tr>\n",
       "    <tr>\n",
       "      <th>456</th>\n",
       "      <td>31/01/2016</td>\n",
       "      <td>Dustin Gee</td>\n",
       "      <td>Este</td>\n",
       "      <td>Sandalias</td>\n",
       "      <td>Vestimenta</td>\n",
       "      <td>11</td>\n",
       "      <td>$ 115,50</td>\n",
       "    </tr>\n",
       "    <tr>\n",
       "      <th>457</th>\n",
       "      <td>31/01/2016</td>\n",
       "      <td>Dustin Gee</td>\n",
       "      <td>Este</td>\n",
       "      <td>Sánguche de Queso</td>\n",
       "      <td>Comestibles</td>\n",
       "      <td>4</td>\n",
       "      <td>$ 6,40</td>\n",
       "    </tr>\n",
       "    <tr>\n",
       "      <th>458</th>\n",
       "      <td>31/01/2016</td>\n",
       "      <td>Dustin Gee</td>\n",
       "      <td>Norte</td>\n",
       "      <td>Escobillón</td>\n",
       "      <td>Hogar</td>\n",
       "      <td>8</td>\n",
       "      <td>$ 6,80</td>\n",
       "    </tr>\n",
       "    <tr>\n",
       "      <th>459</th>\n",
       "      <td>31/01/2016</td>\n",
       "      <td>Trevor Snodgrass</td>\n",
       "      <td>Sur</td>\n",
       "      <td>Pepinillo</td>\n",
       "      <td>Comestibles</td>\n",
       "      <td>7</td>\n",
       "      <td>$ 2,10</td>\n",
       "    </tr>\n",
       "  </tbody>\n",
       "</table>\n",
       "<p>460 rows × 7 columns</p>\n",
       "</div>"
      ],
      "text/plain": [
       "          Fecha          Vendedor Región           Artículo    Categoría  \\\n",
       "0    01/01/2016      Steve Ashton  Norte   Medias Femeninas   Vestimenta   \n",
       "1    01/01/2016  Trevor Snodgrass  Oeste          Chocolate  Comestibles   \n",
       "2    01/01/2016        Sarah Bond    Sur             Gorras   Vestimenta   \n",
       "3    01/01/2016   Desmond Delaney    Sur  Sánguche de Queso  Comestibles   \n",
       "4    01/01/2016   Desmond Delaney   Este          Chocolate  Comestibles   \n",
       "..          ...               ...    ...                ...          ...   \n",
       "455  31/01/2016        Sarah Bond    Sur            Bufanda   Vestimenta   \n",
       "456  31/01/2016        Dustin Gee   Este          Sandalias   Vestimenta   \n",
       "457  31/01/2016        Dustin Gee   Este  Sánguche de Queso  Comestibles   \n",
       "458  31/01/2016        Dustin Gee  Norte         Escobillón        Hogar   \n",
       "459  31/01/2016  Trevor Snodgrass    Sur          Pepinillo  Comestibles   \n",
       "\n",
       "     Unidades    Ganancia  \n",
       "0           6    $ 18,00   \n",
       "1           8     $ 3,84   \n",
       "2           3     $ 6,30   \n",
       "3           9    $ 14,40   \n",
       "4          14     $ 6,72   \n",
       "..        ...         ...  \n",
       "455         6    $ 16,50   \n",
       "456        11   $ 115,50   \n",
       "457         4     $ 6,40   \n",
       "458         8     $ 6,80   \n",
       "459         7     $ 2,10   \n",
       "\n",
       "[460 rows x 7 columns]"
      ]
     },
     "execution_count": 23,
     "metadata": {},
     "output_type": "execute_result"
    }
   ],
   "source": [
    "DF"
   ]
  },
  {
   "cell_type": "markdown",
   "metadata": {},
   "source": [
    "#SERIES: ES UNA LISTA DE DATOS UNIDEMENSIONALES.\n",
    "\n",
    "* Formas de regresar los datos :"
   ]
  },
  {
   "cell_type": "code",
   "execution_count": 27,
   "metadata": {
    "collapsed": true
   },
   "outputs": [
    {
     "data": {
      "text/plain": [
       "0          Steve Ashton\n",
       "1      Trevor Snodgrass\n",
       "2            Sarah Bond\n",
       "3       Desmond Delaney\n",
       "4       Desmond Delaney\n",
       "             ...       \n",
       "455          Sarah Bond\n",
       "456          Dustin Gee\n",
       "457          Dustin Gee\n",
       "458          Dustin Gee\n",
       "459    Trevor Snodgrass\n",
       "Name: Vendedor, Length: 460, dtype: object"
      ]
     },
     "execution_count": 27,
     "metadata": {},
     "output_type": "execute_result"
    }
   ],
   "source": [
    "DF['Vendedor']"
   ]
  },
  {
   "cell_type": "code",
   "execution_count": 28,
   "metadata": {
    "collapsed": true
   },
   "outputs": [
    {
     "data": {
      "text/plain": [
       "0      01/01/2016\n",
       "1      01/01/2016\n",
       "2      01/01/2016\n",
       "3      01/01/2016\n",
       "4      01/01/2016\n",
       "          ...    \n",
       "455    31/01/2016\n",
       "456    31/01/2016\n",
       "457    31/01/2016\n",
       "458    31/01/2016\n",
       "459    31/01/2016\n",
       "Name: Fecha, Length: 460, dtype: object"
      ]
     },
     "execution_count": 28,
     "metadata": {},
     "output_type": "execute_result"
    }
   ],
   "source": [
    "DF.Fecha"
   ]
  },
  {
   "cell_type": "code",
   "execution_count": 32,
   "metadata": {
    "collapsed": true
   },
   "outputs": [
    {
     "data": {
      "text/html": [
       "<div>\n",
       "<style scoped>\n",
       "    .dataframe tbody tr th:only-of-type {\n",
       "        vertical-align: middle;\n",
       "    }\n",
       "\n",
       "    .dataframe tbody tr th {\n",
       "        vertical-align: top;\n",
       "    }\n",
       "\n",
       "    .dataframe thead th {\n",
       "        text-align: right;\n",
       "    }\n",
       "</style>\n",
       "<table border=\"1\" class=\"dataframe\">\n",
       "  <thead>\n",
       "    <tr style=\"text-align: right;\">\n",
       "      <th></th>\n",
       "      <th>Vendedor</th>\n",
       "      <th>Unidades</th>\n",
       "      <th>Ganancia</th>\n",
       "    </tr>\n",
       "  </thead>\n",
       "  <tbody>\n",
       "    <tr>\n",
       "      <th>0</th>\n",
       "      <td>Steve Ashton</td>\n",
       "      <td>6</td>\n",
       "      <td>$ 18,00</td>\n",
       "    </tr>\n",
       "    <tr>\n",
       "      <th>1</th>\n",
       "      <td>Trevor Snodgrass</td>\n",
       "      <td>8</td>\n",
       "      <td>$ 3,84</td>\n",
       "    </tr>\n",
       "    <tr>\n",
       "      <th>2</th>\n",
       "      <td>Sarah Bond</td>\n",
       "      <td>3</td>\n",
       "      <td>$ 6,30</td>\n",
       "    </tr>\n",
       "    <tr>\n",
       "      <th>3</th>\n",
       "      <td>Desmond Delaney</td>\n",
       "      <td>9</td>\n",
       "      <td>$ 14,40</td>\n",
       "    </tr>\n",
       "    <tr>\n",
       "      <th>4</th>\n",
       "      <td>Desmond Delaney</td>\n",
       "      <td>14</td>\n",
       "      <td>$ 6,72</td>\n",
       "    </tr>\n",
       "    <tr>\n",
       "      <th>...</th>\n",
       "      <td>...</td>\n",
       "      <td>...</td>\n",
       "      <td>...</td>\n",
       "    </tr>\n",
       "    <tr>\n",
       "      <th>455</th>\n",
       "      <td>Sarah Bond</td>\n",
       "      <td>6</td>\n",
       "      <td>$ 16,50</td>\n",
       "    </tr>\n",
       "    <tr>\n",
       "      <th>456</th>\n",
       "      <td>Dustin Gee</td>\n",
       "      <td>11</td>\n",
       "      <td>$ 115,50</td>\n",
       "    </tr>\n",
       "    <tr>\n",
       "      <th>457</th>\n",
       "      <td>Dustin Gee</td>\n",
       "      <td>4</td>\n",
       "      <td>$ 6,40</td>\n",
       "    </tr>\n",
       "    <tr>\n",
       "      <th>458</th>\n",
       "      <td>Dustin Gee</td>\n",
       "      <td>8</td>\n",
       "      <td>$ 6,80</td>\n",
       "    </tr>\n",
       "    <tr>\n",
       "      <th>459</th>\n",
       "      <td>Trevor Snodgrass</td>\n",
       "      <td>7</td>\n",
       "      <td>$ 2,10</td>\n",
       "    </tr>\n",
       "  </tbody>\n",
       "</table>\n",
       "<p>460 rows × 3 columns</p>\n",
       "</div>"
      ],
      "text/plain": [
       "             Vendedor  Unidades    Ganancia\n",
       "0        Steve Ashton         6    $ 18,00 \n",
       "1    Trevor Snodgrass         8     $ 3,84 \n",
       "2          Sarah Bond         3     $ 6,30 \n",
       "3     Desmond Delaney         9    $ 14,40 \n",
       "4     Desmond Delaney        14     $ 6,72 \n",
       "..                ...       ...         ...\n",
       "455        Sarah Bond         6    $ 16,50 \n",
       "456        Dustin Gee        11   $ 115,50 \n",
       "457        Dustin Gee         4     $ 6,40 \n",
       "458        Dustin Gee         8     $ 6,80 \n",
       "459  Trevor Snodgrass         7     $ 2,10 \n",
       "\n",
       "[460 rows x 3 columns]"
      ]
     },
     "execution_count": 32,
     "metadata": {},
     "output_type": "execute_result"
    }
   ],
   "source": [
    "DF[['Vendedor','Unidades','Ganancia']]"
   ]
  },
  {
   "cell_type": "markdown",
   "metadata": {},
   "source": [
    "#Tipos de Datos con Estructuras"
   ]
  },
  {
   "cell_type": "code",
   "execution_count": 34,
   "metadata": {},
   "outputs": [
    {
     "data": {
      "text/plain": [
       "pandas.core.series.Series"
      ]
     },
     "execution_count": 34,
     "metadata": {},
     "output_type": "execute_result"
    }
   ],
   "source": [
    "type(DF.Fecha)"
   ]
  },
  {
   "cell_type": "code",
   "execution_count": 35,
   "metadata": {},
   "outputs": [
    {
     "data": {
      "text/plain": [
       "pandas.core.frame.DataFrame"
      ]
     },
     "execution_count": 35,
     "metadata": {},
     "output_type": "execute_result"
    }
   ],
   "source": [
    "type(DF[['Vendedor','Unidades','Ganancia']])"
   ]
  },
  {
   "cell_type": "markdown",
   "metadata": {},
   "source": [
    "#Cargando Varias Fuentes de Datos:\n",
    "\n",
    "* CSV, XLXS, JSON, TXT, SQL\n",
    "\n",
    "\n",
    "#Carga de archivos de Texto."
   ]
  },
  {
   "cell_type": "code",
   "execution_count": 39,
   "metadata": {},
   "outputs": [
    {
     "data": {
      "text/html": [
       "<div>\n",
       "<style scoped>\n",
       "    .dataframe tbody tr th:only-of-type {\n",
       "        vertical-align: middle;\n",
       "    }\n",
       "\n",
       "    .dataframe tbody tr th {\n",
       "        vertical-align: top;\n",
       "    }\n",
       "\n",
       "    .dataframe thead th {\n",
       "        text-align: right;\n",
       "    }\n",
       "</style>\n",
       "<table border=\"1\" class=\"dataframe\">\n",
       "  <thead>\n",
       "    <tr style=\"text-align: right;\">\n",
       "      <th></th>\n",
       "      <th>Nombre</th>\n",
       "      <th>Apellidos</th>\n",
       "      <th>edad</th>\n",
       "    </tr>\n",
       "  </thead>\n",
       "  <tbody>\n",
       "    <tr>\n",
       "      <th>0</th>\n",
       "      <td>Inocenta</td>\n",
       "      <td>Ortega</td>\n",
       "      <td>53</td>\n",
       "    </tr>\n",
       "    <tr>\n",
       "      <th>1</th>\n",
       "      <td>Miriam</td>\n",
       "      <td>Tiburcio</td>\n",
       "      <td>13</td>\n",
       "    </tr>\n",
       "    <tr>\n",
       "      <th>2</th>\n",
       "      <td>Roy</td>\n",
       "      <td>Tiburcio</td>\n",
       "      <td>28</td>\n",
       "    </tr>\n",
       "    <tr>\n",
       "      <th>3</th>\n",
       "      <td>Eli</td>\n",
       "      <td>Roque</td>\n",
       "      <td>39</td>\n",
       "    </tr>\n",
       "    <tr>\n",
       "      <th>4</th>\n",
       "      <td>Javier</td>\n",
       "      <td>Tiburcio</td>\n",
       "      <td>26</td>\n",
       "    </tr>\n",
       "  </tbody>\n",
       "</table>\n",
       "</div>"
      ],
      "text/plain": [
       "     Nombre Apellidos  edad\n",
       "0  Inocenta    Ortega    53\n",
       "1    Miriam  Tiburcio    13\n",
       "2       Roy  Tiburcio    28\n",
       "3       Eli     Roque    39\n",
       "4    Javier  Tiburcio    26"
      ]
     },
     "execution_count": 39,
     "metadata": {},
     "output_type": "execute_result"
    }
   ],
   "source": [
    "import pandas as pd\n",
    "\n",
    "Ruta = 'D:\\Cursos\\Python\\AnalisisDeDatos-Py\\ArchivosDeDatos\\Edades.txt'\n",
    "Edades = pd.read_csv(Ruta, sep = '|')\n",
    "\n",
    "Edades"
   ]
  },
  {
   "cell_type": "code",
   "execution_count": 40,
   "metadata": {},
   "outputs": [
    {
     "data": {
      "text/plain": [
       "pandas.core.frame.DataFrame"
      ]
     },
     "execution_count": 40,
     "metadata": {},
     "output_type": "execute_result"
    }
   ],
   "source": [
    "type(Edades)"
   ]
  },
  {
   "cell_type": "markdown",
   "metadata": {},
   "source": [
    "#Carga De Archivo Excel (Xlsx)\n",
    "\n",
    "Para cargar archivos Excel se necesita instalar la Librería Xlrd. \" pip install xlrd \"\n"
   ]
  },
  {
   "cell_type": "code",
   "execution_count": 50,
   "metadata": {},
   "outputs": [
    {
     "data": {
      "text/html": [
       "<div>\n",
       "<style scoped>\n",
       "    .dataframe tbody tr th:only-of-type {\n",
       "        vertical-align: middle;\n",
       "    }\n",
       "\n",
       "    .dataframe tbody tr th {\n",
       "        vertical-align: top;\n",
       "    }\n",
       "\n",
       "    .dataframe thead th {\n",
       "        text-align: right;\n",
       "    }\n",
       "</style>\n",
       "<table border=\"1\" class=\"dataframe\">\n",
       "  <thead>\n",
       "    <tr style=\"text-align: right;\">\n",
       "      <th></th>\n",
       "      <th>Codigo</th>\n",
       "      <th>Nombre</th>\n",
       "      <th>Apellidos</th>\n",
       "      <th>edad</th>\n",
       "    </tr>\n",
       "  </thead>\n",
       "  <tbody>\n",
       "    <tr>\n",
       "      <th>0</th>\n",
       "      <td>1</td>\n",
       "      <td>Inocenta</td>\n",
       "      <td>Ortega</td>\n",
       "      <td>53</td>\n",
       "    </tr>\n",
       "    <tr>\n",
       "      <th>1</th>\n",
       "      <td>2</td>\n",
       "      <td>Miriam</td>\n",
       "      <td>Tiburcio</td>\n",
       "      <td>13</td>\n",
       "    </tr>\n",
       "    <tr>\n",
       "      <th>2</th>\n",
       "      <td>3</td>\n",
       "      <td>Roy</td>\n",
       "      <td>Tiburcio</td>\n",
       "      <td>28</td>\n",
       "    </tr>\n",
       "    <tr>\n",
       "      <th>3</th>\n",
       "      <td>4</td>\n",
       "      <td>Eli</td>\n",
       "      <td>Roque</td>\n",
       "      <td>39</td>\n",
       "    </tr>\n",
       "    <tr>\n",
       "      <th>4</th>\n",
       "      <td>5</td>\n",
       "      <td>Javier</td>\n",
       "      <td>Tiburcio</td>\n",
       "      <td>26</td>\n",
       "    </tr>\n",
       "  </tbody>\n",
       "</table>\n",
       "</div>"
      ],
      "text/plain": [
       "   Codigo    Nombre Apellidos  edad\n",
       "0       1  Inocenta    Ortega    53\n",
       "1       2    Miriam  Tiburcio    13\n",
       "2       3       Roy  Tiburcio    28\n",
       "3       4       Eli     Roque    39\n",
       "4       5    Javier  Tiburcio    26"
      ]
     },
     "execution_count": 50,
     "metadata": {},
     "output_type": "execute_result"
    }
   ],
   "source": [
    "\n",
    "#Importación Hoja 1\n",
    "import pandas as pd\n",
    "\n",
    "Ruta = 'D:\\Cursos\\Python\\AnalisisDeDatos-Py\\ArchivosDeDatos\\Edades_FormatoExcel.xlsx'\n",
    "\n",
    "DataFrame = pd.read_excel(Ruta,'Edades')\n",
    "DataFrame\n"
   ]
  },
  {
   "cell_type": "code",
   "execution_count": 49,
   "metadata": {},
   "outputs": [
    {
     "data": {
      "text/html": [
       "<div>\n",
       "<style scoped>\n",
       "    .dataframe tbody tr th:only-of-type {\n",
       "        vertical-align: middle;\n",
       "    }\n",
       "\n",
       "    .dataframe tbody tr th {\n",
       "        vertical-align: top;\n",
       "    }\n",
       "\n",
       "    .dataframe thead th {\n",
       "        text-align: right;\n",
       "    }\n",
       "</style>\n",
       "<table border=\"1\" class=\"dataframe\">\n",
       "  <thead>\n",
       "    <tr style=\"text-align: right;\">\n",
       "      <th></th>\n",
       "      <th>Codigo</th>\n",
       "      <th>FechaNacimiento</th>\n",
       "    </tr>\n",
       "  </thead>\n",
       "  <tbody>\n",
       "    <tr>\n",
       "      <th>0</th>\n",
       "      <td>1</td>\n",
       "      <td>1967-12-28</td>\n",
       "    </tr>\n",
       "    <tr>\n",
       "      <th>1</th>\n",
       "      <td>2</td>\n",
       "      <td>2005-12-20</td>\n",
       "    </tr>\n",
       "    <tr>\n",
       "      <th>2</th>\n",
       "      <td>3</td>\n",
       "      <td>1991-10-15</td>\n",
       "    </tr>\n",
       "    <tr>\n",
       "      <th>3</th>\n",
       "      <td>4</td>\n",
       "      <td>1973-03-27</td>\n",
       "    </tr>\n",
       "    <tr>\n",
       "      <th>4</th>\n",
       "      <td>5</td>\n",
       "      <td>1993-09-11</td>\n",
       "    </tr>\n",
       "  </tbody>\n",
       "</table>\n",
       "</div>"
      ],
      "text/plain": [
       "   Codigo FechaNacimiento\n",
       "0       1      1967-12-28\n",
       "1       2      2005-12-20\n",
       "2       3      1991-10-15\n",
       "3       4      1973-03-27\n",
       "4       5      1993-09-11"
      ]
     },
     "execution_count": 49,
     "metadata": {},
     "output_type": "execute_result"
    }
   ],
   "source": [
    "#Importación Hoja 2\n",
    "\n",
    "DateFrame2 = pd.read_excel(Ruta, 'Fechas')\n",
    "DateFrame2\n"
   ]
  },
  {
   "cell_type": "code",
   "execution_count": 52,
   "metadata": {},
   "outputs": [
    {
     "data": {
      "text/html": [
       "<div>\n",
       "<style scoped>\n",
       "    .dataframe tbody tr th:only-of-type {\n",
       "        vertical-align: middle;\n",
       "    }\n",
       "\n",
       "    .dataframe tbody tr th {\n",
       "        vertical-align: top;\n",
       "    }\n",
       "\n",
       "    .dataframe thead th {\n",
       "        text-align: right;\n",
       "    }\n",
       "</style>\n",
       "<table border=\"1\" class=\"dataframe\">\n",
       "  <thead>\n",
       "    <tr style=\"text-align: right;\">\n",
       "      <th></th>\n",
       "      <th>Product</th>\n",
       "      <th>Price</th>\n",
       "    </tr>\n",
       "  </thead>\n",
       "  <tbody>\n",
       "    <tr>\n",
       "      <th>0</th>\n",
       "      <td>Desktop Computer</td>\n",
       "      <td>700</td>\n",
       "    </tr>\n",
       "    <tr>\n",
       "      <th>1</th>\n",
       "      <td>Tablet</td>\n",
       "      <td>250</td>\n",
       "    </tr>\n",
       "    <tr>\n",
       "      <th>2</th>\n",
       "      <td>iPhone</td>\n",
       "      <td>800</td>\n",
       "    </tr>\n",
       "    <tr>\n",
       "      <th>3</th>\n",
       "      <td>Laptop</td>\n",
       "      <td>1200</td>\n",
       "    </tr>\n",
       "  </tbody>\n",
       "</table>\n",
       "</div>"
      ],
      "text/plain": [
       "            Product  Price\n",
       "0  Desktop Computer    700\n",
       "1            Tablet    250\n",
       "2            iPhone    800\n",
       "3            Laptop   1200"
      ]
     },
     "execution_count": 52,
     "metadata": {},
     "output_type": "execute_result"
    }
   ],
   "source": [
    "Ruta = 'D:\\Cursos\\Python\\AnalisisDeDatos-Py\\ArchivosDeDatos\\Productos.Json'\n",
    "DataFrame3 = pd.read_json(Ruta)\n",
    "\n",
    "DataFrame3\n"
   ]
  },
  {
   "cell_type": "code",
   "execution_count": 53,
   "metadata": {
    "scrolled": true
   },
   "outputs": [
    {
     "data": {
      "text/html": [
       "<div>\n",
       "<style scoped>\n",
       "    .dataframe tbody tr th:only-of-type {\n",
       "        vertical-align: middle;\n",
       "    }\n",
       "\n",
       "    .dataframe tbody tr th {\n",
       "        vertical-align: top;\n",
       "    }\n",
       "\n",
       "    .dataframe thead th {\n",
       "        text-align: right;\n",
       "    }\n",
       "</style>\n",
       "<table border=\"1\" class=\"dataframe\">\n",
       "  <thead>\n",
       "    <tr style=\"text-align: right;\">\n",
       "      <th></th>\n",
       "      <th>ResultSet</th>\n",
       "    </tr>\n",
       "  </thead>\n",
       "  <tbody>\n",
       "    <tr>\n",
       "      <th>Result</th>\n",
       "      <td>[{'Title': 'potato jpg', 'Summary': 'Kentang S...</td>\n",
       "    </tr>\n",
       "    <tr>\n",
       "      <th>firstResultPosition</th>\n",
       "      <td>1</td>\n",
       "    </tr>\n",
       "    <tr>\n",
       "      <th>totalResultsAvailable</th>\n",
       "      <td>1827221</td>\n",
       "    </tr>\n",
       "    <tr>\n",
       "      <th>totalResultsReturned</th>\n",
       "      <td>2</td>\n",
       "    </tr>\n",
       "  </tbody>\n",
       "</table>\n",
       "</div>"
      ],
      "text/plain": [
       "                                                               ResultSet\n",
       "Result                 [{'Title': 'potato jpg', 'Summary': 'Kentang S...\n",
       "firstResultPosition                                                    1\n",
       "totalResultsAvailable                                            1827221\n",
       "totalResultsReturned                                                   2"
      ]
     },
     "execution_count": 53,
     "metadata": {},
     "output_type": "execute_result"
    }
   ],
   "source": [
    "Ruta = 'D:\\Cursos\\Python\\AnalisisDeDatos-Py\\ArchivosDeDatos\\Productos2.Json'\n",
    "Dataframe4 = pd.read_json(Ruta)\n",
    "\n",
    "Dataframe4\n"
   ]
  },
  {
   "cell_type": "code",
   "execution_count": 55,
   "metadata": {},
   "outputs": [
    {
     "data": {
      "text/plain": [
       "(5, 4)"
      ]
     },
     "execution_count": 55,
     "metadata": {},
     "output_type": "execute_result"
    }
   ],
   "source": [
    "DataFrame.shape"
   ]
  },
  {
   "cell_type": "code",
   "execution_count": 56,
   "metadata": {},
   "outputs": [
    {
     "data": {
      "text/plain": [
       "(460, 7)"
      ]
     },
     "execution_count": 56,
     "metadata": {},
     "output_type": "execute_result"
    }
   ],
   "source": [
    "DF.shape"
   ]
  },
  {
   "cell_type": "code",
   "execution_count": 60,
   "metadata": {},
   "outputs": [
    {
     "data": {
      "text/plain": [
       "(5, 2)"
      ]
     },
     "execution_count": 60,
     "metadata": {},
     "output_type": "execute_result"
    }
   ],
   "source": [
    "DateFrame2.shape"
   ]
  },
  {
   "cell_type": "code",
   "execution_count": 61,
   "metadata": {},
   "outputs": [
    {
     "data": {
      "text/plain": [
       "(4, 2)"
      ]
     },
     "execution_count": 61,
     "metadata": {},
     "output_type": "execute_result"
    }
   ],
   "source": [
    "DataFrame3.shape"
   ]
  },
  {
   "cell_type": "code",
   "execution_count": 63,
   "metadata": {},
   "outputs": [
    {
     "data": {
      "text/plain": [
       "7"
      ]
     },
     "execution_count": 63,
     "metadata": {},
     "output_type": "execute_result"
    }
   ],
   "source": [
    "DF.shape[1]"
   ]
  },
  {
   "cell_type": "code",
   "execution_count": 64,
   "metadata": {},
   "outputs": [
    {
     "data": {
      "text/html": [
       "<div>\n",
       "<style scoped>\n",
       "    .dataframe tbody tr th:only-of-type {\n",
       "        vertical-align: middle;\n",
       "    }\n",
       "\n",
       "    .dataframe tbody tr th {\n",
       "        vertical-align: top;\n",
       "    }\n",
       "\n",
       "    .dataframe thead th {\n",
       "        text-align: right;\n",
       "    }\n",
       "</style>\n",
       "<table border=\"1\" class=\"dataframe\">\n",
       "  <thead>\n",
       "    <tr style=\"text-align: right;\">\n",
       "      <th></th>\n",
       "      <th>Fecha</th>\n",
       "      <th>Vendedor</th>\n",
       "      <th>Región</th>\n",
       "      <th>Artículo</th>\n",
       "      <th>Categoría</th>\n",
       "      <th>Unidades</th>\n",
       "      <th>Ganancia</th>\n",
       "    </tr>\n",
       "  </thead>\n",
       "  <tbody>\n",
       "    <tr>\n",
       "      <th>0</th>\n",
       "      <td>01/01/2016</td>\n",
       "      <td>Steve Ashton</td>\n",
       "      <td>Norte</td>\n",
       "      <td>Medias Femeninas</td>\n",
       "      <td>Vestimenta</td>\n",
       "      <td>6</td>\n",
       "      <td>$ 18,00</td>\n",
       "    </tr>\n",
       "    <tr>\n",
       "      <th>1</th>\n",
       "      <td>01/01/2016</td>\n",
       "      <td>Trevor Snodgrass</td>\n",
       "      <td>Oeste</td>\n",
       "      <td>Chocolate</td>\n",
       "      <td>Comestibles</td>\n",
       "      <td>8</td>\n",
       "      <td>$ 3,84</td>\n",
       "    </tr>\n",
       "    <tr>\n",
       "      <th>2</th>\n",
       "      <td>01/01/2016</td>\n",
       "      <td>Sarah Bond</td>\n",
       "      <td>Sur</td>\n",
       "      <td>Gorras</td>\n",
       "      <td>Vestimenta</td>\n",
       "      <td>3</td>\n",
       "      <td>$ 6,30</td>\n",
       "    </tr>\n",
       "  </tbody>\n",
       "</table>\n",
       "</div>"
      ],
      "text/plain": [
       "        Fecha          Vendedor Región          Artículo    Categoría  \\\n",
       "0  01/01/2016      Steve Ashton  Norte  Medias Femeninas   Vestimenta   \n",
       "1  01/01/2016  Trevor Snodgrass  Oeste         Chocolate  Comestibles   \n",
       "2  01/01/2016        Sarah Bond    Sur            Gorras   Vestimenta   \n",
       "\n",
       "   Unidades   Ganancia  \n",
       "0         6   $ 18,00   \n",
       "1         8    $ 3,84   \n",
       "2         3    $ 6,30   "
      ]
     },
     "execution_count": 64,
     "metadata": {},
     "output_type": "execute_result"
    }
   ],
   "source": [
    "DF.head(3)"
   ]
  },
  {
   "cell_type": "code",
   "execution_count": 65,
   "metadata": {},
   "outputs": [
    {
     "data": {
      "text/html": [
       "<div>\n",
       "<style scoped>\n",
       "    .dataframe tbody tr th:only-of-type {\n",
       "        vertical-align: middle;\n",
       "    }\n",
       "\n",
       "    .dataframe tbody tr th {\n",
       "        vertical-align: top;\n",
       "    }\n",
       "\n",
       "    .dataframe thead th {\n",
       "        text-align: right;\n",
       "    }\n",
       "</style>\n",
       "<table border=\"1\" class=\"dataframe\">\n",
       "  <thead>\n",
       "    <tr style=\"text-align: right;\">\n",
       "      <th></th>\n",
       "      <th>Fecha</th>\n",
       "      <th>Vendedor</th>\n",
       "      <th>Región</th>\n",
       "      <th>Artículo</th>\n",
       "      <th>Categoría</th>\n",
       "      <th>Unidades</th>\n",
       "      <th>Ganancia</th>\n",
       "    </tr>\n",
       "  </thead>\n",
       "  <tbody>\n",
       "    <tr>\n",
       "      <th>458</th>\n",
       "      <td>31/01/2016</td>\n",
       "      <td>Dustin Gee</td>\n",
       "      <td>Norte</td>\n",
       "      <td>Escobillón</td>\n",
       "      <td>Hogar</td>\n",
       "      <td>8</td>\n",
       "      <td>$ 6,80</td>\n",
       "    </tr>\n",
       "    <tr>\n",
       "      <th>459</th>\n",
       "      <td>31/01/2016</td>\n",
       "      <td>Trevor Snodgrass</td>\n",
       "      <td>Sur</td>\n",
       "      <td>Pepinillo</td>\n",
       "      <td>Comestibles</td>\n",
       "      <td>7</td>\n",
       "      <td>$ 2,10</td>\n",
       "    </tr>\n",
       "  </tbody>\n",
       "</table>\n",
       "</div>"
      ],
      "text/plain": [
       "          Fecha          Vendedor Región    Artículo    Categoría  Unidades  \\\n",
       "458  31/01/2016        Dustin Gee  Norte  Escobillón        Hogar         8   \n",
       "459  31/01/2016  Trevor Snodgrass    Sur   Pepinillo  Comestibles         7   \n",
       "\n",
       "     Ganancia  \n",
       "458   $ 6,80   \n",
       "459   $ 2,10   "
      ]
     },
     "execution_count": 65,
     "metadata": {},
     "output_type": "execute_result"
    }
   ],
   "source": [
    "DF.tail(2)"
   ]
  },
  {
   "cell_type": "code",
   "execution_count": null,
   "metadata": {},
   "outputs": [],
   "source": []
  }
 ],
 "metadata": {
  "kernelspec": {
   "display_name": "Python 3",
   "language": "python",
   "name": "python3"
  },
  "language_info": {
   "codemirror_mode": {
    "name": "ipython",
    "version": 3
   },
   "file_extension": ".py",
   "mimetype": "text/x-python",
   "name": "python",
   "nbconvert_exporter": "python",
   "pygments_lexer": "ipython3",
   "version": "3.7.1"
  }
 },
 "nbformat": 4,
 "nbformat_minor": 2
}
