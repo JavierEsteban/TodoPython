{
 "cells": [
  {
   "cell_type": "markdown",
   "metadata": {},
   "source": [
    "# Pandas"
   ]
  },
  {
   "cell_type": "markdown",
   "metadata": {},
   "source": [
    "### ¿Qué es Pandas?\n",
    "\n",
    "Pandas es una librería para el manejo de datos atraves de las siguientes estructuras:\n",
    "\n",
    "\n",
    "1.- Series\n",
    "\n",
    "2.- DataFrame\n",
    "\n",
    "3.- Panel\n",
    "\n"
   ]
  },
  {
   "cell_type": "code",
   "execution_count": 2,
   "metadata": {
    "scrolled": true
   },
   "outputs": [
    {
     "name": "stdout",
     "output_type": "stream",
     "text": [
      "Nombre                 [javier, roy, mirian, alex, edin, edit]\n",
      "Apellidos    [Tiburcio, Tiburcio, Tiburcio, Tiburcio, Tibur...\n",
      "dtype: object\n",
      "<class 'pandas.core.series.Series'>\n",
      "\n",
      "\n",
      "\n",
      "\n",
      "Tiburcio    javier\n",
      "Tiburcio       roy\n",
      "Tiburcio    mirian\n",
      "Tiburcio      alex\n",
      "Tiburcio      edin\n",
      "Tiburcio      edit\n",
      "dtype: object\n",
      "<class 'pandas.core.series.Series'>\n"
     ]
    }
   ],
   "source": [
    "#Código Básico para pandas..\n",
    "import pandas as pd\n",
    "import numpy as np\n",
    "\n",
    "#código básico para Series:\n",
    "\n",
    "# Desde un diccionario...\n",
    "nombre = [\"javier\",\"roy\",\"mirian\", \"alex\", \"edin\", \"edit\"]\n",
    "apellidos = [\"Tiburcio\",\"Tiburcio\",\"Tiburcio\",\"Tiburcio\",\"Tiburcio\",\"Tiburcio\"]\n",
    "bd ={\"Nombre\": nombre, \"Apellidos\": apellidos}\n",
    "\n",
    "data2 = pd.Series(bd)\n",
    "print(data2)\n",
    "print(type(data2))\n",
    "print(\"\\n\"*3)\n",
    "\n",
    "\n",
    "# Desde un Array......\n",
    "data3 = pd.Series(index = apellidos, data = nombre)\n",
    "print(data3)\n",
    "print(type(data3))\n"
   ]
  },
  {
   "cell_type": "markdown",
   "metadata": {},
   "source": [
    "### Formas de crear e ingresar a Series\n",
    "\n",
    "Creación de una Serie atraves de una Lista."
   ]
  },
  {
   "cell_type": "code",
   "execution_count": 94,
   "metadata": {},
   "outputs": [
    {
     "name": "stdout",
     "output_type": "stream",
     "text": [
      "1    1\n",
      "2    2\n",
      "3    3\n",
      "4    4\n",
      "5    5\n",
      "6    6\n",
      "7    7\n",
      "8    8\n",
      "9    9\n",
      "dtype: int64\n",
      "['a' 'e' 'i' 'o' 'u' 'm']\n"
     ]
    }
   ],
   "source": [
    "indice = list(range(1,10))\n",
    "indice2 = list(range(1,10))\n",
    "# indicefinal = [indice, indice2]\n",
    "# array_numeros = np.array(indicefinal)\n",
    "serie_numeros = pd.Series(index = indice, data = indice2)\n",
    "print(serie_numeros)\n",
    "\n",
    "\n",
    "vocales = ['a','e','i','o','u','m']\n",
    "array_vocales = np.array(vocales)\n",
    "series_vocal = pd.Series(array_vocales)\n",
    "print(array_vocales)\n"
   ]
  },
  {
   "cell_type": "code",
   "execution_count": 93,
   "metadata": {},
   "outputs": [
    {
     "name": "stdout",
     "output_type": "stream",
     "text": [
      "A    [10, 11]\n",
      "B    [20, 12]\n",
      "C    [30, 12]\n",
      "dtype: object\n"
     ]
    }
   ],
   "source": [
    " \n",
    "# Creaión a partir de un Diccionario...\n",
    "dictionary = {'A' : [10, 11], 'B' : [20,12], 'C' : [30,12] } \n",
    "series = pd.Series(dictionary)\n",
    "print(series)"
   ]
  },
  {
   "cell_type": "markdown",
   "metadata": {},
   "source": [
    "### Accesos a alas Series"
   ]
  },
  {
   "cell_type": "code",
   "execution_count": 108,
   "metadata": {},
   "outputs": [
    {
     "name": "stdout",
     "output_type": "stream",
     "text": [
      "Int64Index([1, 2, 3, 4, 5, 6], dtype='int64')\n",
      "Index(['a', 'b', 'c', 'e', 'f', 'g'], dtype='object')\n",
      "\n",
      "\n",
      "1    a\n",
      "2    b\n",
      "3    c\n",
      "dtype: object\n",
      "1    a\n",
      "2    b\n",
      "3    c\n",
      "4    e\n",
      "5    f\n",
      "dtype: object\n",
      "a    1\n",
      "b    2\n",
      "c    3\n",
      "dtype: int64\n",
      "a    1\n",
      "b    2\n",
      "c    3\n",
      "e    4\n",
      "f    5\n",
      "dtype: int64\n",
      "5\n"
     ]
    }
   ],
   "source": [
    "vocal = ['a','b','c','e','f','g']\n",
    "numero = [1,2,3,4,5,6]\n",
    "array_vocal = np.array(vocal)\n",
    "\n",
    "serie_vocal = pd.Series(data =array_vocal, index = numero)\n",
    "serie_vocal2 = pd.Series(index =array_vocal, data = numero)\n",
    "\n",
    "\n",
    "#Accediendo a los Indices....\n",
    "print(serie_vocal.index)\n",
    "print(serie_vocal2.index)\n",
    "\n",
    "print(\"\\n\")\n",
    "\n",
    "#Accediendo a los datos del array...\n",
    "\n",
    "print(serie_vocal[:3])\n",
    "print(serie_vocal.head())\n",
    "\n",
    "\n",
    "print(serie_vocal2[:3])\n",
    "print(serie_vocal2.head())\n",
    "print(serie_vocal2['f'])\n",
    "# metodos .loc e .iloc\n",
    "\n"
   ]
  },
  {
   "cell_type": "markdown",
   "metadata": {},
   "source": [
    "#### Acceso Multiple a los datos\n",
    "\n",
    "Se puede realizar atraves de listas multiples....\n"
   ]
  },
  {
   "cell_type": "code",
   "execution_count": 112,
   "metadata": {},
   "outputs": [
    {
     "data": {
      "text/plain": [
       "2    b\n",
       "4    e\n",
       "1    a\n",
       "dtype: object"
      ]
     },
     "execution_count": 112,
     "metadata": {},
     "output_type": "execute_result"
    }
   ],
   "source": [
    "serie_vocal[[2,4,1]]"
   ]
  },
  {
   "cell_type": "markdown",
   "metadata": {},
   "source": [
    "## DataFrame\n",
    "\n",
    "El dataFrame es una estructura de datos que son parecidas a las tablas y tienen gran utilidad para el analisis de datos.\n"
   ]
  },
  {
   "cell_type": "code",
   "execution_count": 123,
   "metadata": {},
   "outputs": [
    {
     "data": {
      "text/html": [
       "<div>\n",
       "<style scoped>\n",
       "    .dataframe tbody tr th:only-of-type {\n",
       "        vertical-align: middle;\n",
       "    }\n",
       "\n",
       "    .dataframe tbody tr th {\n",
       "        vertical-align: top;\n",
       "    }\n",
       "\n",
       "    .dataframe thead th {\n",
       "        text-align: right;\n",
       "    }\n",
       "</style>\n",
       "<table border=\"1\" class=\"dataframe\">\n",
       "  <thead>\n",
       "    <tr style=\"text-align: right;\">\n",
       "      <th></th>\n",
       "      <th>invierno</th>\n",
       "      <th>primavera</th>\n",
       "    </tr>\n",
       "  </thead>\n",
       "  <tbody>\n",
       "    <tr>\n",
       "      <th>cereza</th>\n",
       "      <td>NaN</td>\n",
       "      <td>333.0</td>\n",
       "    </tr>\n",
       "    <tr>\n",
       "      <th>manzana</th>\n",
       "      <td>100.0</td>\n",
       "      <td>111.0</td>\n",
       "    </tr>\n",
       "    <tr>\n",
       "      <th>naranja</th>\n",
       "      <td>300.0</td>\n",
       "      <td>NaN</td>\n",
       "    </tr>\n",
       "    <tr>\n",
       "      <th>pera</th>\n",
       "      <td>200.0</td>\n",
       "      <td>222.0</td>\n",
       "    </tr>\n",
       "    <tr>\n",
       "      <th>uva</th>\n",
       "      <td>NaN</td>\n",
       "      <td>444.0</td>\n",
       "    </tr>\n",
       "  </tbody>\n",
       "</table>\n",
       "</div>"
      ],
      "text/plain": [
       "         invierno  primavera\n",
       "cereza        NaN      333.0\n",
       "manzana     100.0      111.0\n",
       "naranja     300.0        NaN\n",
       "pera        200.0      222.0\n",
       "uva           NaN      444.0"
      ]
     },
     "execution_count": 123,
     "metadata": {},
     "output_type": "execute_result"
    }
   ],
   "source": [
    "#Creación Dataframe a traves de diccionario\n",
    "\n",
    "diccionario = {\n",
    "                'invierno': pd.Series(data = [100., 200., 300.], index = ['manzana','pera','naranja']),\n",
    "                'primavera': pd.Series(data = [111.,222.,333.,444.], index = ['manzana','pera','cereza','uva'])\n",
    "                }\n",
    "\n",
    "data = pd.DataFrame(diccionario)\n",
    "data"
   ]
  },
  {
   "cell_type": "code",
   "execution_count": 3,
   "metadata": {},
   "outputs": [
    {
     "data": {
      "text/html": [
       "<div>\n",
       "<style scoped>\n",
       "    .dataframe tbody tr th:only-of-type {\n",
       "        vertical-align: middle;\n",
       "    }\n",
       "\n",
       "    .dataframe tbody tr th {\n",
       "        vertical-align: top;\n",
       "    }\n",
       "\n",
       "    .dataframe thead th {\n",
       "        text-align: right;\n",
       "    }\n",
       "</style>\n",
       "<table border=\"1\" class=\"dataframe\">\n",
       "  <thead>\n",
       "    <tr style=\"text-align: right;\">\n",
       "      <th></th>\n",
       "      <th>nombre</th>\n",
       "      <th>edad</th>\n",
       "    </tr>\n",
       "  </thead>\n",
       "  <tbody>\n",
       "    <tr>\n",
       "      <th>0</th>\n",
       "      <td>javier</td>\n",
       "      <td>26</td>\n",
       "    </tr>\n",
       "    <tr>\n",
       "      <th>1</th>\n",
       "      <td>roy</td>\n",
       "      <td>28</td>\n",
       "    </tr>\n",
       "    <tr>\n",
       "      <th>2</th>\n",
       "      <td>mimi</td>\n",
       "      <td>14</td>\n",
       "    </tr>\n",
       "  </tbody>\n",
       "</table>\n",
       "</div>"
      ],
      "text/plain": [
       "   nombre  edad\n",
       "0  javier    26\n",
       "1     roy    28\n",
       "2    mimi    14"
      ]
     },
     "execution_count": 3,
     "metadata": {},
     "output_type": "execute_result"
    }
   ],
   "source": [
    "\n",
    "#Creación Dataframe:\n",
    "datos ={\"nombre\" : [\"javier\",\"roy\", \"mimi\"], \"edad\":[26,28,14] }\n",
    "data = pd.DataFrame(datos)\n",
    "data\n",
    "\n"
   ]
  },
  {
   "cell_type": "code",
   "execution_count": 121,
   "metadata": {
    "scrolled": false
   },
   "outputs": [
    {
     "data": {
      "text/html": [
       "<div>\n",
       "<style scoped>\n",
       "    .dataframe tbody tr th:only-of-type {\n",
       "        vertical-align: middle;\n",
       "    }\n",
       "\n",
       "    .dataframe tbody tr th {\n",
       "        vertical-align: top;\n",
       "    }\n",
       "\n",
       "    .dataframe thead th {\n",
       "        text-align: right;\n",
       "    }\n",
       "</style>\n",
       "<table border=\"1\" class=\"dataframe\">\n",
       "  <thead>\n",
       "    <tr style=\"text-align: right;\">\n",
       "      <th></th>\n",
       "      <th>Nombre</th>\n",
       "      <th>Apellidos</th>\n",
       "    </tr>\n",
       "  </thead>\n",
       "  <tbody>\n",
       "    <tr>\n",
       "      <th>0</th>\n",
       "      <td>javier</td>\n",
       "      <td>Tiburcio</td>\n",
       "    </tr>\n",
       "    <tr>\n",
       "      <th>1</th>\n",
       "      <td>roy</td>\n",
       "      <td>Tiburcio</td>\n",
       "    </tr>\n",
       "    <tr>\n",
       "      <th>2</th>\n",
       "      <td>mirian</td>\n",
       "      <td>Tiburcio</td>\n",
       "    </tr>\n",
       "    <tr>\n",
       "      <th>3</th>\n",
       "      <td>alex</td>\n",
       "      <td>Tiburcio</td>\n",
       "    </tr>\n",
       "    <tr>\n",
       "      <th>4</th>\n",
       "      <td>edin</td>\n",
       "      <td>Tiburcio</td>\n",
       "    </tr>\n",
       "    <tr>\n",
       "      <th>5</th>\n",
       "      <td>edit</td>\n",
       "      <td>Tiburcio</td>\n",
       "    </tr>\n",
       "  </tbody>\n",
       "</table>\n",
       "</div>"
      ],
      "text/plain": [
       "   Nombre Apellidos\n",
       "0  javier  Tiburcio\n",
       "1     roy  Tiburcio\n",
       "2  mirian  Tiburcio\n",
       "3    alex  Tiburcio\n",
       "4    edin  Tiburcio\n",
       "5    edit  Tiburcio"
      ]
     },
     "execution_count": 121,
     "metadata": {},
     "output_type": "execute_result"
    }
   ],
   "source": [
    "#código básico para Series:\n",
    "nombre = [\"javier\",\"roy\",\"mirian\", \"alex\", \"edin\", \"edit\"]\n",
    "apellidos = [\"Tiburcio\",\"Tiburcio\",\"Tiburcio\",\"Tiburcio\",\"Tiburcio\",\"Tiburcio\"]\n",
    "indice = [1,2,3,4,5,6]\n",
    "bd ={\"Nombre\": nombre, \"Apellidos\": apellidos}\n",
    "\n",
    "\n",
    "data2 = pd.DataFrame(bd)\n",
    "data2\n",
    "type(data2)\n"
   ]
  },
  {
   "cell_type": "code",
   "execution_count": null,
   "metadata": {},
   "outputs": [],
   "source": []
  }
 ],
 "metadata": {
  "kernelspec": {
   "display_name": "Python 3",
   "language": "python",
   "name": "python3"
  },
  "language_info": {
   "codemirror_mode": {
    "name": "ipython",
    "version": 3
   },
   "file_extension": ".py",
   "mimetype": "text/x-python",
   "name": "python",
   "nbconvert_exporter": "python",
   "pygments_lexer": "ipython3",
   "version": "3.7.1"
  }
 },
 "nbformat": 4,
 "nbformat_minor": 4
}
